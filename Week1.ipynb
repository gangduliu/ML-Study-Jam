{
  "nbformat": 4,
  "nbformat_minor": 0,
  "metadata": {
    "colab": {
      "name": "Week1.ipynb",
      "provenance": [],
      "authorship_tag": "ABX9TyOpgBj0WUw0KEO6yt6JtfSx",
      "include_colab_link": true
    },
    "kernelspec": {
      "name": "python3",
      "display_name": "Python 3"
    }
  },
  "cells": [
    {
      "cell_type": "markdown",
      "metadata": {
        "id": "view-in-github",
        "colab_type": "text"
      },
      "source": [
        "<a href=\"https://colab.research.google.com/github/GangDu/ML-Study-Jam/blob/master/Week1.ipynb\" target=\"_parent\"><img src=\"https://colab.research.google.com/assets/colab-badge.svg\" alt=\"Open In Colab\"/></a>"
      ]
    },
    {
      "cell_type": "code",
      "metadata": {
        "id": "xiuBmSGY3608",
        "colab_type": "code",
        "colab": {}
      },
      "source": [
        "import tensorflow as tf\n",
        "import numpy as np"
      ],
      "execution_count": null,
      "outputs": []
    },
    {
      "cell_type": "code",
      "metadata": {
        "id": "dcP3QLga4DF3",
        "colab_type": "code",
        "colab": {
          "base_uri": "https://localhost:8080/",
          "height": 68
        },
        "outputId": "d77e21d4-ea66-4409-d44b-9fd9b6b56cc1"
      },
      "source": [
        "A = tf.constant([[1, 2], [3, 4]])\n",
        "B = tf.constant([[5, 6], [9, 10]])\n",
        "C = tf.matmul(A, B)\n",
        "\n",
        "print(C)"
      ],
      "execution_count": null,
      "outputs": [
        {
          "output_type": "stream",
          "text": [
            "tf.Tensor(\n",
            "[[23 26]\n",
            " [51 58]], shape=(2, 2), dtype=int32)\n"
          ],
          "name": "stdout"
        }
      ]
    },
    {
      "cell_type": "code",
      "metadata": {
        "id": "qaFBc2JV4Vrj",
        "colab_type": "code",
        "colab": {
          "base_uri": "https://localhost:8080/",
          "height": 187
        },
        "outputId": "117b7c71-e0d3-4e1a-c339-b67983120501"
      },
      "source": [
        "random_float = tf.random.uniform(shape=())\n",
        "\n",
        "zero_vector = tf.zeros(shape=(2))\n",
        "\n",
        "A = tf.constant([[1., 2.], [3., 4.]])\n",
        "B = tf.constant([[5., 6.], [7., 8.]])\n",
        "\n",
        "print(A.shape)\n",
        "print(A.dtype)\n",
        "print(A.numpy())\n",
        "\n",
        "C = tf.add(A, B)\n",
        "D = tf.matmul(A, B)\n",
        "\n",
        "print(C)\n",
        "print(D)"
      ],
      "execution_count": null,
      "outputs": [
        {
          "output_type": "stream",
          "text": [
            "(2, 2)\n",
            "<dtype: 'float32'>\n",
            "[[1. 2.]\n",
            " [3. 4.]]\n",
            "tf.Tensor(\n",
            "[[ 6.  8.]\n",
            " [10. 12.]], shape=(2, 2), dtype=float32)\n",
            "tf.Tensor(\n",
            "[[19. 22.]\n",
            " [43. 50.]], shape=(2, 2), dtype=float32)\n"
          ],
          "name": "stdout"
        }
      ]
    },
    {
      "cell_type": "code",
      "metadata": {
        "id": "_YFXyPzm7HGL",
        "colab_type": "code",
        "colab": {
          "base_uri": "https://localhost:8080/",
          "height": 34
        },
        "outputId": "5d8b2d39-f7a8-4c8c-b287-fba501c0aa55"
      },
      "source": [
        "x = tf.Variable(initial_value=3.)\n",
        "with tf.GradientTape() as tape:\n",
        "    y = tf.square(x)\n",
        "y_grad = tape.gradient(y, x)\n",
        "print(y, y_grad)"
      ],
      "execution_count": null,
      "outputs": [
        {
          "output_type": "stream",
          "text": [
            "tf.Tensor(9.0, shape=(), dtype=float32) tf.Tensor(6.0, shape=(), dtype=float32)\n"
          ],
          "name": "stdout"
        }
      ]
    },
    {
      "cell_type": "code",
      "metadata": {
        "id": "mppbmqjA8PSp",
        "colab_type": "code",
        "colab": {
          "base_uri": "https://localhost:8080/",
          "height": 68
        },
        "outputId": "e778b34e-5b36-45a3-b345-de96d2fdd6a0"
      },
      "source": [
        "X = tf.constant([[1., 2.], [3., 4.]])\n",
        "y = tf.constant([[1.], [2.]])\n",
        "w = tf.Variable(initial_value=[[1.], [2.]])\n",
        "b = tf.Variable(initial_value=1.)\n",
        "with tf.GradientTape() as tape:\n",
        "    L = tf.reduce_sum(tf.square(tf.matmul(X, w) + b - y))\n",
        "w_grad, b_grad = tape.gradient(L, [w, b])\n",
        "print(L, w_grad, b_grad)"
      ],
      "execution_count": null,
      "outputs": [
        {
          "output_type": "stream",
          "text": [
            "tf.Tensor(125.0, shape=(), dtype=float32) tf.Tensor(\n",
            "[[ 70.]\n",
            " [100.]], shape=(2, 1), dtype=float32) tf.Tensor(30.0, shape=(), dtype=float32)\n"
          ],
          "name": "stdout"
        }
      ]
    },
    {
      "cell_type": "code",
      "metadata": {
        "id": "qN5V4sFC9wzm",
        "colab_type": "code",
        "colab": {}
      },
      "source": [
        "x_raw = np.array([2013, 2014, 2015, 2016, 2017, 2018], dtype=np.float32)\n",
        "y_raw = np.array([12000, 14000, 15000, 16500, 17500, 19000], dtype=np.float32)\n",
        "\n",
        "x = (x_raw - x_raw.min()) / (x_raw.max() - x_raw.min())\n",
        "y = (y_raw - y_raw.min()) / (y_raw.max() - y_raw.min())"
      ],
      "execution_count": null,
      "outputs": []
    },
    {
      "cell_type": "code",
      "metadata": {
        "id": "AG2HzySKuRJj",
        "colab_type": "code",
        "colab": {
          "base_uri": "https://localhost:8080/",
          "height": 34
        },
        "outputId": "d1c07852-96d6-4bf3-dd30-1aa4da6ca41d"
      },
      "source": [
        "a, b = 0, 0\n",
        "\n",
        "num_epoch = 10000\n",
        "learning_rate = 5e-4\n",
        "for e in range(num_epoch):\n",
        "    y_pred = a * x + b\n",
        "    grad_a, grad_b = 2 * (y_pred - y).dot(x), 2 * (y_pred - y).sum()\n",
        "\n",
        "    a, b = a - learning_rate * grad_a, b - learning_rate * grad_b\n",
        "\n",
        "print(a, b)"
      ],
      "execution_count": null,
      "outputs": [
        {
          "output_type": "stream",
          "text": [
            "0.9562246403236603 0.04584618910402093\n"
          ],
          "name": "stdout"
        }
      ]
    },
    {
      "cell_type": "code",
      "metadata": {
        "id": "T2w2YvTbvlV8",
        "colab_type": "code",
        "colab": {
          "base_uri": "https://localhost:8080/",
          "height": 34
        },
        "outputId": "0d0afdb3-09d5-4f6f-caf9-a219e4554cb7"
      },
      "source": [
        "x = tf.constant(x)\n",
        "y = tf.constant(y)\n",
        "\n",
        "a = tf.Variable(initial_value=0.)\n",
        "b = tf.Variable(initial_value=0.)\n",
        "variables = [a, b]\n",
        "\n",
        "num_epoch = 10000\n",
        "optimizer = tf.keras.optimizers.SGD(learning_rate=5e-4)\n",
        "for e in range(num_epoch):\n",
        "    with tf.GradientTape() as tape:\n",
        "        y_pred = a * x + b\n",
        "        loss = tf.reduce_sum(tf.square(y_pred - y))\n",
        "    grads = tape.gradient(loss, variables)\n",
        "    optimizer.apply_gradients(grads_and_vars=zip(grads, variables))\n",
        "\n",
        "print(a.numpy(), b.numpy())"
      ],
      "execution_count": null,
      "outputs": [
        {
          "output_type": "stream",
          "text": [
            "0.956224 0.045846466\n"
          ],
          "name": "stdout"
        }
      ]
    },
    {
      "cell_type": "code",
      "metadata": {
        "id": "q0x-SvPDxLfZ",
        "colab_type": "code",
        "colab": {}
      },
      "source": [
        ""
      ],
      "execution_count": null,
      "outputs": []
    }
  ]
}